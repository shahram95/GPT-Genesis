{
 "cells": [
  {
   "cell_type": "code",
   "execution_count": 1,
   "id": "0cc5ff95-3df1-4473-8f59-6fe2fb3b0433",
   "metadata": {},
   "outputs": [],
   "source": [
    "import os\n",
    "import subprocess"
   ]
  },
  {
   "cell_type": "code",
   "execution_count": 5,
   "id": "5a1901a4-5056-441e-85de-3f60253c29b3",
   "metadata": {},
   "outputs": [
    {
     "name": "stderr",
     "output_type": "stream",
     "text": [
      "--2024-08-27 14:35:09--  https://raw.githubusercontent.com/shahram95/GPT-Genesis/main/data/input.txt\n",
      "Resolving raw.githubusercontent.com (raw.githubusercontent.com)... 2606:50c0:8000::154, 2606:50c0:8003::154, 2606:50c0:8002::154, ...\n",
      "Connecting to raw.githubusercontent.com (raw.githubusercontent.com)|2606:50c0:8000::154|:443... connected.\n",
      "HTTP request sent, awaiting response... 200 OK\n",
      "Length: 1115394 (1.1M) [text/plain]\n",
      "Saving to: ‘./data/input.txt’\n",
      "\n",
      "     0K .......... .......... .......... .......... ..........  4%  473K 2s\n",
      "    50K .......... .......... .......... .......... ..........  9% 1.56M 1s\n",
      "   100K .......... .......... .......... .......... .......... 13% 3.29M 1s\n",
      "   150K .......... .......... .......... .......... .......... 18% 3.85M 1s\n",
      "   200K .......... .......... .......... .......... .......... 22% 5.40M 1s\n",
      "   250K .......... .......... .......... .......... .......... 27% 7.31M 0s\n",
      "   300K .......... .......... .......... .......... .......... 32% 7.45M 0s\n",
      "   350K .......... .......... .......... .......... .......... 36% 6.24M 0s\n",
      "   400K .......... .......... .......... .......... .......... 41% 7.28M 0s\n",
      "   450K .......... .......... .......... .......... .......... 45% 9.78M 0s\n",
      "   500K .......... .......... .......... .......... .......... 50% 8.45M 0s\n",
      "   550K .......... .......... .......... .......... .......... 55% 12.3M 0s\n",
      "   600K .......... .......... .......... .......... .......... 59% 20.1M 0s\n",
      "   650K .......... .......... .......... .......... .......... 64% 11.3M 0s\n",
      "   700K .......... .......... .......... .......... .......... 68% 13.3M 0s\n",
      "   750K .......... .......... .......... .......... .......... 73% 46.6M 0s\n",
      "   800K .......... .......... .......... .......... .......... 78% 25.6M 0s\n",
      "   850K .......... .......... .......... .......... .......... 82% 24.7M 0s\n",
      "   900K .......... .......... .......... .......... .......... 87% 20.5M 0s\n",
      "   950K .......... .......... .......... .......... .......... 91% 22.7M 0s\n",
      "  1000K .......... .......... .......... .......... .......... 96% 19.1M 0s\n",
      "  1050K .......... .......... .......... .........            100% 43.7M=0.2s\n",
      "\n",
      "2024-08-27 14:35:10 (4.44 MB/s) - ‘./data/input.txt’ saved [1115394/1115394]\n",
      "\n"
     ]
    }
   ],
   "source": [
    "directory = \"./data\"\n",
    "url = \"https://raw.githubusercontent.com/shahram95/GPT-Genesis/main/data/input.txt\"\n",
    "\n",
    "if not os.path.exists(directory):\n",
    "    os.makedirs(directory)\n",
    "    subprocess.run([\"wget\", \"-P\", directory, url])"
   ]
  },
  {
   "cell_type": "code",
   "execution_count": null,
   "id": "61987f42-0967-43ab-b8ea-26745d31ead3",
   "metadata": {},
   "outputs": [],
   "source": []
  },
  {
   "cell_type": "code",
   "execution_count": null,
   "id": "d7c4bd0b-5a54-4f44-bae5-3a00f76e9da3",
   "metadata": {},
   "outputs": [],
   "source": []
  }
 ],
 "metadata": {
  "kernelspec": {
   "display_name": "Python 3 (ipykernel)",
   "language": "python",
   "name": "python3"
  },
  "language_info": {
   "codemirror_mode": {
    "name": "ipython",
    "version": 3
   },
   "file_extension": ".py",
   "mimetype": "text/x-python",
   "name": "python",
   "nbconvert_exporter": "python",
   "pygments_lexer": "ipython3",
   "version": "3.12.4"
  }
 },
 "nbformat": 4,
 "nbformat_minor": 5
}
